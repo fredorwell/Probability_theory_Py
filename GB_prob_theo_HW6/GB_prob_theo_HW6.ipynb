{
 "cells": [
  {
   "cell_type": "code",
   "execution_count": 1,
   "id": "03c9bea1",
   "metadata": {
    "scrolled": true
   },
   "outputs": [],
   "source": [
    "import scipy\n",
    "import numpy"
   ]
  },
  {
   "cell_type": "markdown",
   "id": "19ff0120",
   "metadata": {},
   "source": [
    "Задача 1\n",
    "\n",
    "Известно, что генеральная совокупность распределена нормально со средним квадратическим отклонением, равным 16.\n",
    "\n",
    "Найти доверительный интервал для оценки математического ожидания a с надежностью 0.95, если выборочная средняя M = 80, а объем выборки n = 256."
   ]
  },
  {
   "cell_type": "code",
   "execution_count": 9,
   "id": "53eb5116",
   "metadata": {},
   "outputs": [
    {
     "name": "stdout",
     "output_type": "stream",
     "text": [
      "Доверительный интервал: [78.04, 81.96]\n"
     ]
    }
   ],
   "source": [
    "mean = 80\n",
    "sigma = 16\n",
    "n = 256\n",
    "p = 0.95\n",
    "alpha = 0.05\n",
    "z = scipy.stats.norm.ppf(alpha/2)\n",
    "b1 = round(m - z * sigma / numpy.sqrt(n),4)\n",
    "b2 = round(m + z * sigma / numpy.sqrt(n),4)\n",
    "print(f'Доверительный интервал: [{b2}, {b1}]')"
   ]
  },
  {
   "cell_type": "markdown",
   "id": "8e139730",
   "metadata": {},
   "source": [
    "Задача 2\n",
    "\n",
    "В результате 10 независимых измерений некоторой величины X, выполненных с одинаковой точностью, получены опытные данные:\n",
    "6.9, 6.1, 6.2, 6.8, 7.5, 6.3, 6.4, 6.9, 6.7, 6.1\n",
    "\n",
    "Предполагая, что результаты измерений подчинены нормальному закону распределения вероятностей, оценить истинное значение величины X при помощи доверительного интервала, покрывающего это значение с доверительной вероятностью 0,95."
   ]
  },
  {
   "cell_type": "code",
   "execution_count": 23,
   "id": "bfd5bcaa",
   "metadata": {},
   "outputs": [
    {
     "name": "stdout",
     "output_type": "stream",
     "text": [
      "Среднее по выборке: 6.59\n",
      "Доверительный интервал: [6.2675, 6.9125]\n"
     ]
    }
   ],
   "source": [
    "arr = numpy.array([6.9, 6.1, 6.2, 6.8, 7.5, 6.3, 6.4, 6.9, 6.7, 6.1])\n",
    "x = numpy.mean(arr)\n",
    "print(f'Среднее по выборке: {round(x,4)}')\n",
    "n = len(arr)\n",
    "d = numpy.var(arr, ddof=1)\n",
    "t = scipy.stats.t.ppf(0.975, n -1)\n",
    "b1 = round(x-t*numpy.sqrt(d / n),4)\n",
    "b2 = round(x+t*numpy.sqrt(d / n),4)\n",
    "print(f'Доверительный интервал: [{b1}, {b2}]')"
   ]
  },
  {
   "cell_type": "markdown",
   "id": "54cc7d9f",
   "metadata": {},
   "source": [
    "Задача 3\n",
    "\n",
    "Рост дочерей 175, 167, 154, 174, 178, 148, 160, 167, 169, 170\n",
    "\n",
    "Рост матерей  178, 165, 165, 173, 168, 155, 160, 164, 178, 175\n",
    "\n",
    "Используя эти данные построить 95% доверительный интервал для разности среднего роста родителей и детей."
   ]
  },
  {
   "cell_type": "code",
   "execution_count": 13,
   "id": "5b0cd6b0",
   "metadata": {},
   "outputs": [
    {
     "name": "stdout",
     "output_type": "stream",
     "text": [
      "Доверительный интервал: [-6.2684, 10.0684]\n"
     ]
    }
   ],
   "source": [
    "daughters = numpy.array([175, 167, 154, 174, 178, 148, 160, 167, 169, 170])\n",
    "mothers = numpy.array([178, 165, 165, 173, 168, 155, 160, 164, 178, 175])\n",
    "x1 = numpy.mean(mothers)\n",
    "x2 = numpy.mean(daughters)\n",
    "delta = x1 - x2\n",
    "n = len(daughters)\n",
    "d1 = numpy.var(daughters, ddof = 1)\n",
    "d2 = numpy.var(mothers, ddof = 1) \n",
    "d = (d1+d2)/2\n",
    "se = numpy.sqrt(d / len(daughters) + d / len(mothers))\n",
    "t = scipy.stats.t.ppf(0.975, 2 * (n - 1))\n",
    "b1 = round(delta-t*se,4)\n",
    "b2 = round(delta+t*se,4)\n",
    "print(f'Доверительный интервал: [{b1}, {b2}]')"
   ]
  },
  {
   "cell_type": "code",
   "execution_count": null,
   "id": "85549aca",
   "metadata": {},
   "outputs": [],
   "source": []
  }
 ],
 "metadata": {
  "kernelspec": {
   "display_name": "Python 3 (ipykernel)",
   "language": "python",
   "name": "python3"
  },
  "language_info": {
   "codemirror_mode": {
    "name": "ipython",
    "version": 3
   },
   "file_extension": ".py",
   "mimetype": "text/x-python",
   "name": "python",
   "nbconvert_exporter": "python",
   "pygments_lexer": "ipython3",
   "version": "3.10.6"
  }
 },
 "nbformat": 4,
 "nbformat_minor": 5
}
