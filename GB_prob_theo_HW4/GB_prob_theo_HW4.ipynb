{
 "cells": [
  {
   "cell_type": "code",
   "execution_count": 1,
   "id": "6a1fd635",
   "metadata": {},
   "outputs": [],
   "source": [
    "import math"
   ]
  },
  {
   "cell_type": "markdown",
   "id": "15e85836",
   "metadata": {},
   "source": [
    "Задача 1\n",
    "Случайная непрерывная величина A имеет равномерное распределение на промежутке (200, 800].\n",
    "Найдите ее среднее значение и дисперсию."
   ]
  },
  {
   "cell_type": "code",
   "execution_count": 4,
   "id": "a469f72a",
   "metadata": {
    "scrolled": true
   },
   "outputs": [
    {
     "name": "stdout",
     "output_type": "stream",
     "text": [
      "Среднее: 500.0\n",
      "Дисперсия: 30000.0\n"
     ]
    }
   ],
   "source": [
    "min = 200\n",
    "max = 800\n",
    "aver = (min + max)/2\n",
    "print(f'Среднее: {aver}')\n",
    "disp = ((max-min)**2)/12\n",
    "print(f'Дисперсия: {disp}')"
   ]
  },
  {
   "cell_type": "markdown",
   "id": "b18277f1",
   "metadata": {},
   "source": [
    "Задача 2\n",
    "О случайной непрерывной равномерно распределенной величине B известно, что ее дисперсия равна 0.2.\n",
    "Можно ли найти правую границу величины B и ее среднее значение зная, что левая граница равна 0.5?\n",
    "Если да, найдите ее.\n",
    "Прим:\n",
    "Поскольку мы знаем дисперсию и левую границу, то мы можем привести формулу дисперсии для данного случая \n",
    "0.2 = ((X-0.5)**2)/12 к виду 0.2x-0.5 = 0.5 + (2.4)**(1/2)"
   ]
  },
  {
   "cell_type": "code",
   "execution_count": 6,
   "id": "d71006fa",
   "metadata": {},
   "outputs": [
    {
     "name": "stdout",
     "output_type": "stream",
     "text": [
      "Правая граница: 2.0492\n",
      "Среднее: 1.2746\n"
     ]
    }
   ],
   "source": [
    "min = 0.5\n",
    "max = round(min + 2.4**(1/2),4)\n",
    "print(f'Правая граница: {max}')\n",
    "aver = round((min + max)/2, 4)\n",
    "print(f'Среднее: {aver}')"
   ]
  },
  {
   "cell_type": "markdown",
   "id": "24a3c95e",
   "metadata": {},
   "source": [
    "Задача 3\n",
    "Непрерывная случайная величина X распределена нормально и задана плотностью распределения\n",
    "f(x) = (1 / (4 * sqrt(2pi))) * exp((-(x+2)**2) / 32)\n",
    "Найдите:\n",
    "а). M(X)\n",
    "б). D(X)\n",
    "в). std(X) (среднее квадратичное отклонение)\n",
    "\n",
    "Решение:\n",
    "M(X) = a = 2 \n",
    "std(X) = 4\n",
    "D(X) = std(X)**2 = 16"
   ]
  },
  {
   "cell_type": "markdown",
   "id": "e534f710",
   "metadata": {},
   "source": [
    "Задача 4\n",
    "Рост взрослого населения города X имеет нормальное распределение.\n",
    "Причем, средний рост равен 174 см, а среднее квадратичное отклонение равно 8 см.\n",
    "Какова вероятность того, что случайным образом выбранный взрослый человек имеет рост:\n",
    "а). больше 182 см\n",
    "б). больше 190 см\n",
    "в). от 166 см до 190 см\n",
    "г). от 166 см до 182 см\n",
    "д). от 158 см до 190 см\n",
    "е). не выше 150 см или не ниже 190 см\n",
    "ё). не выше 150 см или не ниже 198 см\n",
    "ж). ниже 166 см."
   ]
  },
  {
   "cell_type": "code",
   "execution_count": 37,
   "id": "4cb4df11",
   "metadata": {},
   "outputs": [
    {
     "name": "stdout",
     "output_type": "stream",
     "text": [
      "Вероятность что рост больше 182: 0.15865525393145719\n",
      "Вероятность что рост больше 190: 0.022750131948179098\n",
      "Вероятность что рост от 166 до 190: 0.8185946141203637\n",
      "Вероятность что рост от 166 до 182: 0.6826894921370856\n",
      "Вероятность что рост от 158 до 190: 0.9544997361036418\n",
      "Вероятность что рост от 150 до 190: 0.0241000299798092\n",
      "Вероятность что рост меньше 150 и больше 198: 0.002699796063260207\n",
      "Вероятность что рост меньше 166: 0.15865525393145713\n"
     ]
    }
   ],
   "source": [
    "import statistics\n",
    "def z_value(a):\n",
    "    return (a-174)/8\n",
    "\n",
    "my_sigm = 8\n",
    "# Задание A\n",
    "height = 182\n",
    "z = z_value(height)\n",
    "print(f'Вероятность что рост больше {height}: {1-(statistics.NormalDist().cdf(z))}')\n",
    "# Задание Б\n",
    "height = 190\n",
    "z = z_value(height)\n",
    "print(f'Вероятность что рост больше {height}: {1-(statistics.NormalDist().cdf(z))}')\n",
    "# Задание В\n",
    "height1 = 166\n",
    "z1 = z_value(height1)\n",
    "height2 = 190\n",
    "z2 = z_value(height2)\n",
    "p = statistics.NormalDist().cdf(z2) - statistics.NormalDist().cdf(z1)\n",
    "print(f'Вероятность что рост от {height1} до {height2}: {p}')\n",
    "# Задание Г\n",
    "height1 = 166\n",
    "z1 = z_value(height1)\n",
    "height2 = 182\n",
    "z2 = z_value(height2)\n",
    "p = statistics.NormalDist().cdf(z2) - statistics.NormalDist().cdf(z1)\n",
    "print(f'Вероятность что рост от {height1} до {height2}: {p}')\n",
    "# Задание Д\n",
    "height1 = 158\n",
    "z1 = z_value(height1)\n",
    "height2 = 190\n",
    "z2 = z_value(height2)\n",
    "p = statistics.NormalDist().cdf(z2) - statistics.NormalDist().cdf(z1)\n",
    "print(f'Вероятность что рост от {height1} до {height2}: {p}')\n",
    "# Задание Е\n",
    "height1 = 150\n",
    "z1 = z_value(height1)\n",
    "height2 = 190\n",
    "z2 = z_value(height2)\n",
    "p = statistics.NormalDist().cdf(z1) + (1 - statistics.NormalDist().cdf(z2))\n",
    "print(f'Вероятность что рост от {height1} до {height2}: {p}')\n",
    "# Задание Ё\n",
    "height1 = 150\n",
    "z1 = z_value(height1)\n",
    "height2 = 198\n",
    "z2 = z_value(height2)\n",
    "p = statistics.NormalDist().cdf(z1) + (1 - statistics.NormalDist().cdf(z2))\n",
    "print(f'Вероятность что рост меньше {height1} и больше {height2}: {p}')\n",
    "# Задание Ж\n",
    "height = 166\n",
    "z = z_value(height)\n",
    "print(f'Вероятность что рост меньше {height}: {(statistics.NormalDist().cdf(z))}')"
   ]
  },
  {
   "cell_type": "markdown",
   "id": "a3174a01",
   "metadata": {},
   "source": [
    "Задача 5\n",
    "На сколько сигм (средних квадратичных отклонений) отклоняется рост человека, равный 190 см, от математического ожидания роста в популяции, в которой M(X) = 178 см и D(X) = 25 кв.см?\n"
   ]
  },
  {
   "cell_type": "code",
   "execution_count": 38,
   "id": "0b1a20bf",
   "metadata": {},
   "outputs": [
    {
     "name": "stdout",
     "output_type": "stream",
     "text": [
      "Кол-во сигм: 2.4\n"
     ]
    }
   ],
   "source": [
    "z = (190 - 178)/25**(1/2)\n",
    "print(f'Кол-во сигм: {z}')"
   ]
  }
 ],
 "metadata": {
  "kernelspec": {
   "display_name": "Python 3 (ipykernel)",
   "language": "python",
   "name": "python3"
  },
  "language_info": {
   "codemirror_mode": {
    "name": "ipython",
    "version": 3
   },
   "file_extension": ".py",
   "mimetype": "text/x-python",
   "name": "python",
   "nbconvert_exporter": "python",
   "pygments_lexer": "ipython3",
   "version": "3.10.6"
  }
 },
 "nbformat": 4,
 "nbformat_minor": 5
}
