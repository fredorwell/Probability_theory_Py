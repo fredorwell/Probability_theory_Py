{
 "cells": [
  {
   "cell_type": "markdown",
   "id": "c074162c",
   "metadata": {},
   "source": [
    "Задача 1\n",
    "\n",
    "Провести дисперсионный анализ для определения того, есть ли различия среднего роста среди взрослых футболистов, хоккеистов и штангистов.\n",
    "\n",
    "Даны значения роста в трех группах случайно выбранных спортсменов:\n",
    "\n",
    "Футболисты: 173, 175, 180, 178, 177, 185, 183, 182.\n",
    "\n",
    "Хоккеисты: 177, 179, 180, 188, 177, 172, 171, 184, 180.\n",
    "\n",
    "Штангисты: 172, 173, 169, 177, 166, 180, 178, 177, 172, 166, 170."
   ]
  },
  {
   "cell_type": "code",
   "execution_count": 2,
   "id": "1690d8fd",
   "metadata": {},
   "outputs": [
    {
     "name": "stdout",
     "output_type": "stream",
     "text": [
      "ShapiroResult(statistic=0.9775082468986511, pvalue=0.9495404362678528)\n",
      "ShapiroResult(statistic=0.9579196572303772, pvalue=0.7763139009475708)\n",
      "ShapiroResult(statistic=0.9386808276176453, pvalue=0.5051165223121643)\n",
      "F_onewayResult(statistic=5.500053450812596, pvalue=0.010482206918698693)\n"
     ]
    }
   ],
   "source": [
    "import pandas as pd\n",
    "import numpy as np\n",
    "import scipy as sc\n",
    "foot = np.array([173, 175, 180, 178, 177, 185, 183, 182])\n",
    "hock = np.array([177, 179, 180, 188, 177, 172, 171, 184, 180])\n",
    "scht = np.array([172, 173, 169, 177, 166, 180, 178, 177, 172, 166, 170])\n",
    "print(sc.stats.shapiro(foot))\n",
    "print(sc.stats.shapiro(hock))\n",
    "print(sc.stats.shapiro(scht))\n",
    "# Выборки распределены нормально по этому проверим с помощью дисп анализа\n",
    "print(sc.stats.f_oneway(foot, hock, scht))\n",
    "# pvalue=0.01, значит отвергаем нулевую гипотезу, ниже мы посмотрим тестом Тьюки"
   ]
  },
  {
   "cell_type": "code",
   "execution_count": 6,
   "id": "33d314f6",
   "metadata": {},
   "outputs": [
    {
     "name": "stdout",
     "output_type": "stream",
     "text": [
      " Multiple Comparison of Means - Tukey HSD, FWER=0.05 \n",
      "=====================================================\n",
      "group1 group2 meandiff p-adj   lower    upper  reject\n",
      "-----------------------------------------------------\n",
      "  foot   hock  -0.4583 0.9675  -5.0687   4.152  False\n",
      "  foot   scht  -6.3977  0.005 -11.0081 -1.7874   True\n",
      "  hock   scht  -5.9394 0.0094 -10.5497 -1.3291   True\n",
      "-----------------------------------------------------\n"
     ]
    }
   ],
   "source": [
    "from statsmodels.stats.multicomp import pairwise_tukeyhsd\n",
    "foot_t = np.array([173, 175, 180, 178, 177, 185, 183, 182])\n",
    "hock_t = np.array([177, 179, 180, 188, 177, 172, 171, 184, 180])\n",
    "scht_t = np.array([172, 173, 169, 177, 166, 180, 178, 177, 172, 166, 170])\n",
    "\n",
    "mean_foot_t = np.mean(foot_t)\n",
    "mean_hock_t = np.mean(hock_t)\n",
    "for i in range(len(scht_t) - len(foot_t)):\n",
    "    foot_t = np.append(foot_t, mean_foot_t)\n",
    "\n",
    "for i in range(len(scht_t) - len(hock_t)):\n",
    "    hock_t = np.append(hock_t, mean_hock_t)\n",
    "\n",
    "df = pd.DataFrame({'score':[ 173, 175, 180, 178, 177, 185, 183, 182, 179.125, 179.125, 179.125, \n",
    "                            177, 179, 180, 188, 177, 172, 171, 184, 180, 178.66666667, 178.66666667, \n",
    "                            172, 173, 169, 177, 166, 180, 178, 177, 172, 166, 170], \n",
    "                   'group': np.repeat(['foot', 'hock', 'scht'], \n",
    "                    repeats=len(foot_t))})\n",
    "# print(df)\n",
    "\n",
    "tukey = pairwise_tukeyhsd(endog=df['score'],\n",
    "                         groups=df['group'],\n",
    "                         alpha=0.05)\n",
    "print(tukey)"
   ]
  },
  {
   "cell_type": "code",
   "execution_count": null,
   "id": "93fda18c",
   "metadata": {},
   "outputs": [],
   "source": []
  }
 ],
 "metadata": {
  "kernelspec": {
   "display_name": "Python 3 (ipykernel)",
   "language": "python",
   "name": "python3"
  },
  "language_info": {
   "codemirror_mode": {
    "name": "ipython",
    "version": 3
   },
   "file_extension": ".py",
   "mimetype": "text/x-python",
   "name": "python",
   "nbconvert_exporter": "python",
   "pygments_lexer": "ipython3",
   "version": "3.10.6"
  }
 },
 "nbformat": 4,
 "nbformat_minor": 5
}
