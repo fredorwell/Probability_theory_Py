{
 "cells": [
  {
   "cell_type": "code",
   "execution_count": 3,
   "id": "6a71022e",
   "metadata": {},
   "outputs": [],
   "source": [
    "import matplotlib as plt\n",
    "import numpy as np\n",
    "import pandas as pd"
   ]
  },
  {
   "cell_type": "markdown",
   "id": "fc33bb0f",
   "metadata": {},
   "source": [
    "Задача 1\n",
    "\n",
    "Даны значения величины заработной платы заемщиков банка (zp) и значения их поведенческого кредитного скоринга (ks): \n",
    "\n",
    "zp = [35, 45, 190, 200, 40, 70, 54, 150, 120, 110]\n",
    "\n",
    "ks = [401, 574, 874, 919, 459, 739, 653, 902, 746, 832]\n",
    "\n",
    "Используя математические операции, посчитать коэффициенты линейной регрессии, приняв за X заработную плату (то есть, zp - признак), а за y - значения скорингового балла (то есть, ks - целевая переменная). Произвести расчет как с использованием intercept, так и без."
   ]
  },
  {
   "cell_type": "code",
   "execution_count": 4,
   "id": "bc1cf65f",
   "metadata": {},
   "outputs": [],
   "source": [
    "zp = np.array([35, 45, 190, 200, 40, 70, 54, 150, 120, 110])\n",
    "ks = np.array([401, 574, 874, 919, 459, 739, 653, 902, 746, 832])"
   ]
  },
  {
   "cell_type": "markdown",
   "id": "ae1cd5e8",
   "metadata": {},
   "source": [
    "Расчет с интерсептом"
   ]
  },
  {
   "cell_type": "code",
   "execution_count": 57,
   "id": "9fa0ee64",
   "metadata": {},
   "outputs": [
    {
     "name": "stdout",
     "output_type": "stream",
     "text": [
      "[[444.17735732]\n",
      " [  2.62053888]]\n"
     ]
    }
   ],
   "source": [
    "ZP_i = zp.reshape((len(zp),1))\n",
    "KS_i = ks.reshape((len(ks),1))\n",
    "ZP_i = np.hstack([np.ones((10,1)),ZP_i])\n",
    "B_i = np.dot(np.linalg.inv(np.dot(ZP_i.T,ZP_i)),np.dot(ZP_i.T,KS_i))\n",
    "print(B)"
   ]
  },
  {
   "cell_type": "markdown",
   "id": "27aaa0e9",
   "metadata": {},
   "source": [
    "Расчет без интерсепта"
   ]
  },
  {
   "cell_type": "code",
   "execution_count": 60,
   "id": "0d5628c7",
   "metadata": {},
   "outputs": [
    {
     "name": "stdout",
     "output_type": "stream",
     "text": [
      "[[5.88982042]]\n"
     ]
    }
   ],
   "source": [
    "ZP_WI = zp.reshape((len(zp),1))\n",
    "KS_WI = ks.reshape((len(ks),1))\n",
    "B_WI = np.dot(np.linalg.inv(np.dot(ZP_WI.T,ZP_WI)),np.dot(ZP_WI.T,KS_WI))\n",
    "print(B_WI)"
   ]
  },
  {
   "cell_type": "markdown",
   "id": "180ffc23",
   "metadata": {},
   "source": [
    "Задача 2\n",
    "\n",
    "Посчитать коэффициент линейной регрессии при заработной плате (zp), используя градиентный спуск (без intercept)."
   ]
  },
  {
   "cell_type": "code",
   "execution_count": 8,
   "id": "60ab95ef",
   "metadata": {},
   "outputs": [
    {
     "name": "stdout",
     "output_type": "stream",
     "text": [
      "i = 0, b = 1.6952808000000004, mse = 298904.5992334053\n",
      "i = 10, b = 5.722758921136703, mse = 56901.35704574499\n",
      "i = 20, b = 5.883166639986514, mse = 56517.468344241344\n",
      "i = 30, b = 5.889555411195862, mse = 56516.859383246396\n",
      "i = 40, b = 5.88980986526988, mse = 56516.858417254174\n",
      "i = 50, b = 5.889819999750153, mse = 56516.85841572186\n",
      "i = 60, b = 5.889820403389555, mse = 56516.85841571941\n",
      "Минимальное значение \n",
      "i = 62, b = 5.8898204113449895, mse = 56516.8584157194\n"
     ]
    }
   ],
   "source": [
    "def mse(b, x, y):\n",
    "    return np.sum((b*x-y)**2)/len(x)\n",
    "\n",
    "alpha=1e-05\n",
    "# Можно уменьшать значение\n",
    "b=0.1\n",
    "mse_min=mse(b,zp,ks)\n",
    "i_min=1\n",
    "b_min=b\n",
    "for i in range(10000):\n",
    "    b-=alpha*(2/len(zp))*np.sum((b*zp-ks)*zp)\n",
    "    if i%10==0:\n",
    "        print(f'i = {i}, b = {b}, mse = {mse(b, zp,ks)}')\n",
    "    if mse(b,zp,ks)>mse_min:\n",
    "        print(f'Минимальное значение \\ni = {i_min}, b = {b_min}, mse = {mse_min}')        \n",
    "        break\n",
    "    else:\n",
    "        mse_min=mse(b,zp,ks)\n",
    "        i_min=i\n",
    "        b_min=b"
   ]
  },
  {
   "cell_type": "markdown",
   "id": "d14ba310",
   "metadata": {},
   "source": [
    "Задача 3\n",
    "\n",
    "Произвести вычисления как в пункте 2, но с вычислением intercept. Учесть, что изменение коэффициентов должно производиться на каждом шаге одновременно (то есть изменение одного коэффициента не должно влиять на изменение другого во время одной итерации)."
   ]
  },
  {
   "cell_type": "code",
   "execution_count": 11,
   "id": "8d67fa3f",
   "metadata": {},
   "outputs": [
    {
     "name": "stdout",
     "output_type": "stream",
     "text": [
      "i = 0, b = 0.169966, b = 8.07468054476, mse = 122318.06397097567\n",
      "i = 50000, b = 319.27767648420047, b = 3.5398324356503275, mse = 10427.569111705801\n",
      "i = 100000, b = 409.0442373734796, b = 2.879127619051743, mse = 6783.521961452364\n",
      "i = 150000, b = 434.29473705519484, b = 2.693277491833349, mse = 6495.188684804794\n",
      "i = 200000, b = 441.3974680483413, b = 2.6409995775222037, mse = 6472.374468908443\n",
      "i = 250000, b = 443.39540029510493, b = 2.62629428586797, mse = 6470.569306309746\n",
      "i = 300000, b = 443.95740007610897, b = 2.622157823932053, mse = 6470.426473787141\n",
      "i = 350000, b = 444.1154853937451, b = 2.6209942756156086, mse = 6470.415172240385\n",
      "i = 400000, b = 444.159953325044, b = 2.6206669802831115, mse = 6470.414278011555\n",
      "i = 450000, b = 444.1724617410292, b = 2.6205749151465225, mse = 6470.414207256183\n",
      "i = 500000, b = 444.1759802422447, b = 2.6205490180788695, mse = 6470.414201657699\n",
      "Минимальное значение \n",
      "i = 520164, b = 444.17653163778414, b = 2.62054495966686, mse = 6470.414201349592\n"
     ]
    }
   ],
   "source": [
    "def mse_ab(a,b, x, y):\n",
    "    return np.sum(((a+b*x)-y)**2)/len(x)\n",
    "\n",
    "def mse_pa(a,b,x,y): \n",
    "    return 2*np.sum((a+b*x)-y)/len(x)\n",
    "\n",
    "def mse_pb(a,b,x,y):\n",
    "    return 2*np.sum(((a+b*x)-y)*x)/len(x)\n",
    "alpha=5e-05\n",
    "b=0.1\n",
    "a=0.1\n",
    "mseab_min=mse_ab(a,b,zp,ks)\n",
    "i_min=1\n",
    "b_min=b\n",
    "a_min=a\n",
    "   \n",
    "for i in range(1000000):\n",
    "    a-=alpha*mse_pa(a,b,zp,ks)\n",
    "    b-=alpha*mse_pb(a,b,zp,ks)\n",
    "    if i%50000==0:\n",
    "        print(f'i = {i}, b = {a}, b = {b}, mse = {mse_ab(a, b, zp,ks)}')\n",
    "    if _mse_ab(a, b,zp,ks)>mseab_min:\n",
    "        print(f'Минимальное значение \\ni = {i_min}, b = {a_min}, b = {b_min}, mse = {mseab_min}')\n",
    "        break\n",
    "    else:\n",
    "        mseab_min=mse_ab(a, b,zp,ks)\n",
    "        i_min=i\n",
    "        b_min=b\n",
    "        a_min=a"
   ]
  }
 ],
 "metadata": {
  "kernelspec": {
   "display_name": "Python 3 (ipykernel)",
   "language": "python",
   "name": "python3"
  },
  "language_info": {
   "codemirror_mode": {
    "name": "ipython",
    "version": 3
   },
   "file_extension": ".py",
   "mimetype": "text/x-python",
   "name": "python",
   "nbconvert_exporter": "python",
   "pygments_lexer": "ipython3",
   "version": "3.10.6"
  }
 },
 "nbformat": 4,
 "nbformat_minor": 5
}
