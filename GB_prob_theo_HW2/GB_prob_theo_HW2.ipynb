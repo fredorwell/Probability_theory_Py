{
 "cells": [
  {
   "cell_type": "markdown",
   "id": "72b8ea3f",
   "metadata": {},
   "source": [
    "Теория вероятностей и математическая статистика (семинары)\n",
    "Урок 2. Дискретные распределения вероятностей"
   ]
  },
  {
   "cell_type": "code",
   "execution_count": 1,
   "id": "5d984970",
   "metadata": {},
   "outputs": [],
   "source": [
    "import math\n",
    "\n",
    "def Bernuli(n, k, p):\n",
    "    return round(math.factorial(n)/(math.factorial(k)*math.factorial(n-k))*(p**k)*(1-p)**(n-k),4)\n",
    "\n",
    "def Puason(m, p, n):\n",
    "    return round(math.exp(-p*n)*((p*n)**m)/math.factorial(m),4)\n",
    "\n",
    "def Comb(a, b):\n",
    "    return int(math.factorial(a) / (math.factorial(b) * math.factorial(a - b)))\n"
   ]
  },
  {
   "cell_type": "markdown",
   "id": "a831edd8",
   "metadata": {},
   "source": [
    "Задание 1\n",
    "Вероятность того, что стрелок попадет в мишень, выстрелив один раз, равна 0.8.\n",
    "Стрелок выстрелил 100 раз.Найдите вероятность того, что стрелок попадет в цель ровно 85 раз.\n",
    "\n",
    "Прим: Для решения данной задачи воспользуемся формулой бернули, ф-ция для вычисления Bernuli."
   ]
  },
  {
   "cell_type": "code",
   "execution_count": 2,
   "id": "f0501ccc",
   "metadata": {},
   "outputs": [
    {
     "name": "stdout",
     "output_type": "stream",
     "text": [
      "Вероятность того что стрелок попадет ровно 85 раз из 100 выстрелов = 0.0481\n"
     ]
    }
   ],
   "source": [
    "n = 100\n",
    "k = 85\n",
    "p = 0.8\n",
    "print(f'Вероятность того что стрелок попадет ровно {k} раз из {n} выстрелов = {Bernuli(n,k,p)}')"
   ]
  },
  {
   "cell_type": "markdown",
   "id": "c369127c",
   "metadata": {},
   "source": [
    "Задание 2\n",
    "Вероятность того, что лампочка перегорит в течение первого дня эксплуатации, равна 0.0004. В жилом комплексе после ремонта в один день включили 5000 новых лампочек. \n",
    "- Какова вероятность, что ни одна из них не перегорит в первый день? \n",
    "- Какова вероятность, что перегорят ровно две?\n",
    "\n",
    "Прим: Поскольку вероятность у нас крайне мала, а кол-во исходов велико, то мы воспользуемся формулой пуассона, ф-ция Puason."
   ]
  },
  {
   "cell_type": "code",
   "execution_count": 3,
   "id": "cbd0ecd1",
   "metadata": {},
   "outputs": [
    {
     "name": "stdout",
     "output_type": "stream",
     "text": [
      "Вероятность что не перегорит ни одна из лампочек = 0.1353\n",
      "Вероятность что перегорит две лампочки = 0.2707\n"
     ]
    }
   ],
   "source": [
    "m = 0\n",
    "p = 0.0004\n",
    "n = 5000\n",
    "print(f'Вероятность что не перегорит ни одна из лампочек = {Puason(m,p,n)}')\n",
    "m = 2\n",
    "print(f'Вероятность что перегорит две лампочки = {Puason(m,p,n)}')"
   ]
  },
  {
   "cell_type": "markdown",
   "id": "b082ee9a",
   "metadata": {},
   "source": [
    "Задание 3\n",
    "Монету подбросили 144 раза. Какова вероятность, что орел выпадет ровно 70 раз?\n",
    "\n",
    "Прим: Поскольку нам надо узнать какова вероятность 70и положительных исходов мы воспользуемся ф-цией бернули."
   ]
  },
  {
   "cell_type": "code",
   "execution_count": 4,
   "id": "b493ead5",
   "metadata": {},
   "outputs": [
    {
     "name": "stdout",
     "output_type": "stream",
     "text": [
      "Вероятность того что орел выпадет ровно 70 раз из 144 бросков = 0.0628\n"
     ]
    }
   ],
   "source": [
    "n = 144\n",
    "k = 70\n",
    "p = 0.5\n",
    "print(f'Вероятность того что орел выпадет ровно {k} раз из {n} бросков = {Bernuli(n,k,p)}')"
   ]
  },
  {
   "cell_type": "markdown",
   "id": "3e5b352e",
   "metadata": {},
   "source": [
    "В первом ящике находится 10 мячей, из которых 7 - белые. Во втором ящике - 11 мячей, из которых 9 белых. Из каждого ящика вытаскивают случайным образом по два мяча.\n",
    "- Какова вероятность того, что все мячи белые?\n",
    "- Какова вероятность того, что ровно два мяча белые?\n",
    "- Какова вероятность того, что хотя бы один мяч белый?"
   ]
  },
  {
   "cell_type": "code",
   "execution_count": 5,
   "id": "f91d455a",
   "metadata": {},
   "outputs": [
    {
     "name": "stdout",
     "output_type": "stream",
     "text": [
      "Вероятность того что достанут 4 белых мяча = 0.3055\n"
     ]
    }
   ],
   "source": [
    "prob = round(Comb(7, 2)*Comb(3, 0)/Comb(10, 2) * Comb(9, 2)*Comb(2, 0)/Comb(11, 2),4)\n",
    "print(f'Вероятность того что достанут 4 белых мяча = {prob}')"
   ]
  },
  {
   "cell_type": "code",
   "execution_count": 6,
   "id": "d451d165",
   "metadata": {},
   "outputs": [
    {
     "name": "stdout",
     "output_type": "stream",
     "text": [
      "Вероятность того что достанут 2 белых мяча из 4х = 0.2048\n"
     ]
    }
   ],
   "source": [
    "prob = round(Comb(7, 2)*Comb(3, 0)/Comb(10, 2) * Comb(9, 0)*Comb(2, 2)/Comb(11, 2)+ Comb(7, 1)*Comb(3, 1)/Comb(10, 2)*Comb(9, 1)*Comb(2, 1)/Comb(11, 2)+Comb(7, 0)*Comb(3, 2)/Comb(10, 2)*Comb(9, 2)*Comb(2, 0)/Comb(11, 2),4)\n",
    "print(f'Вероятность того что достанут 2 белых мяча из 4х = {prob}')"
   ]
  },
  {
   "cell_type": "code",
   "execution_count": 7,
   "id": "67a4b937",
   "metadata": {},
   "outputs": [
    {
     "name": "stdout",
     "output_type": "stream",
     "text": [
      "Вероятность того что достанут хотя бы один белый мяч = 0.9988\n"
     ]
    }
   ],
   "source": [
    "prob =  round(1 - Comb(7, 0)*Comb(3, 2)/Comb(10, 2) * Comb(9, 0)*Comb(2, 2)/Comb(11, 2),4)\n",
    "print(f'Вероятность того что достанут хотя бы один белый мяч = {prob}')"
   ]
  },
  {
   "cell_type": "code",
   "execution_count": null,
   "id": "8f13fe05",
   "metadata": {},
   "outputs": [],
   "source": []
  }
 ],
 "metadata": {
  "kernelspec": {
   "display_name": "Python 3 (ipykernel)",
   "language": "python",
   "name": "python3"
  },
  "language_info": {
   "codemirror_mode": {
    "name": "ipython",
    "version": 3
   },
   "file_extension": ".py",
   "mimetype": "text/x-python",
   "name": "python",
   "nbconvert_exporter": "python",
   "pygments_lexer": "ipython3",
   "version": "3.10.6"
  }
 },
 "nbformat": 4,
 "nbformat_minor": 5
}
