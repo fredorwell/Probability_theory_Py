{
 "cells": [
  {
   "cell_type": "code",
   "execution_count": 42,
   "id": "7e7ccc10",
   "metadata": {},
   "outputs": [],
   "source": [
    "import numpy\n",
    "import scipy"
   ]
  },
  {
   "cell_type": "markdown",
   "id": "4d5646f3",
   "metadata": {},
   "source": [
    "Задача 1\n",
    "\n",
    "Даны значения величины заработной платы заемщиков банка (zp) и значения их поведенческого кредитного скоринга (ks):\n",
    "\n",
    "zp = [35, 45, 190, 200, 40, 70, 54, 150, 120, 110],\n",
    "\n",
    "ks = [401, 574, 874, 919, 459, 739, 653, 902, 746, 832].\n",
    "\n",
    "Найдите ковариацию этих двух величин с помощью элементарных действий, а затем с помощью функции cov из numpy\n",
    "\n",
    "Полученные значения должны быть равны.\n",
    "\n",
    "Найдите коэффициент корреляции Пирсона с помощью ковариации и среднеквадратичных отклонений двух признаков, а затем с использованием функций из библиотек numpy и pandas.\n"
   ]
  },
  {
   "cell_type": "code",
   "execution_count": 38,
   "id": "ec6aaa87",
   "metadata": {},
   "outputs": [
    {
     "name": "stdout",
     "output_type": "stream",
     "text": [
      "Коэффициент ковариации через ф-цию: \n",
      "9157.839999999997\n",
      "Коэффициент ковариации через numpy: \n",
      "[[ 3494.64  9157.84]\n",
      " [ 9157.84 30468.89]]\n",
      " \n",
      "Корреляция через ф-цию: \n",
      "0.8874900920739158\n",
      " Корреляция через numpy: \n",
      "[[1.         0.88749009]\n",
      " [0.88749009 1.        ]]\n"
     ]
    }
   ],
   "source": [
    "def my_cov(arr1, arr2):\n",
    "    result = (sum(arr1*arr2)/len(arr1))-(sum(arr1)/len(arr1))*(sum(arr2)/len(arr2))\n",
    "    return result  \n",
    "\n",
    "def std(array):\n",
    "    result=(sum((array-(sum(array)/len(array)))**2)/len(array))**0.5\n",
    "    return result\n",
    "\n",
    "zp = numpy.array([35, 45, 190, 200, 40, 70, 54, 150, 120, 110])\n",
    "ks = numpy.array([401, 574, 874, 919, 459, 739, 653, 902, 746, 832])\n",
    "print(f'Коэффициент ковариации через ф-цию: \\n{my_cov(zp,ks)}')\n",
    "print(f'Коэффициент ковариации через numpy: \\n{numpy.cov(zp,ks, ddof=0)}')\n",
    "r = my_cov(zp,ks)/(std(zp)*std(ks))\n",
    "print(f' \\nКорреляция через ф-цию: \\n{r}')\n",
    "print(f' Корреляция через numpy: \\n{numpy.corrcoef(zp,ks)}')"
   ]
  },
  {
   "cell_type": "markdown",
   "id": "20e24c06",
   "metadata": {},
   "source": [
    "Задача 2\n",
    "\n",
    "Измерены значения IQ выборки студентов,\n",
    "\n",
    "обучающихся в местных технических вузах:\n",
    "\n",
    "131, 125, 115, 122, 131, 115, 107, 99, 125, 111.\n",
    "\n",
    "Известно, что в генеральной совокупности IQ распределен нормально.\n",
    "\n",
    "Найдите доверительный интервал для математического ожидания с надежностью 0.95."
   ]
  },
  {
   "cell_type": "code",
   "execution_count": 53,
   "id": "ce35f0cd",
   "metadata": {},
   "outputs": [
    {
     "name": "stdout",
     "output_type": "stream",
     "text": [
      "Средневыборочное: 118.1\n",
      "Кол-во измерений: 10\n",
      "Среднеквадратичное отклонение: 10.54566788359614\n",
      "Значение т-критерия для 95.0% доверительного интервала: 2.2621571627409915\n",
      "95.0% доверительный интервал: (110.556, 125.644)\n"
     ]
    }
   ],
   "source": [
    "arr = numpy.array([131, 125, 115, 122, 131, 115, 107, 99, 125, 111])\n",
    "dov_int = 0.95\n",
    "mean = numpy.mean(arr)\n",
    "print(f'Средневыборочное: {mean}')\n",
    "n = len(arr)\n",
    "print(f'Кол-во измерений: {n}')\n",
    "std = numpy.std(arr, ddof=1)\n",
    "print(f'Среднеквадратичное отклонение: {std}')\n",
    "t = scipy.stats.t.ppf(1-(1-0.95)/2, n-1)\n",
    "print(f'Значение т-критерия для {dov_int*100}% доверительного интервала: {t}')\n",
    "a = mean-t*std/n**0.5\n",
    "b = mean+t*std/n**0.5\n",
    "print(f'{dov_int*100}% доверительный интервал: {round(a,3),round(b,3)}')"
   ]
  },
  {
   "cell_type": "markdown",
   "id": "4b4f1ab7",
   "metadata": {},
   "source": [
    "Задача 3\n",
    "\n",
    "Известно, что рост футболистов в сборной распределен нормально с дисперсией генеральной совокупности, равной 25 кв.см. Объем выборки равен 27, среднее выборочное составляет 174.2. \n",
    "\n",
    "Найдите доверительный интервал для математического ожидания с надежностью 0.95."
   ]
  },
  {
   "cell_type": "code",
   "execution_count": 64,
   "id": "8dbd19d8",
   "metadata": {},
   "outputs": [
    {
     "name": "stdout",
     "output_type": "stream",
     "text": [
      "95.0% доверительный интервал для мат ожидания: (172.314, 176.086)\n"
     ]
    }
   ],
   "source": [
    "mean = 174.2\n",
    "std = 25**0.5\n",
    "n = 27\n",
    "p = 0.95\n",
    "alpha = 1-p\n",
    "a = round(mean+(z*std)/n**0.5,3)\n",
    "b = round(mean-(z*std)/n**0.5,3)\n",
    "z = round(scipy.stats.norm.ppf(alpha/2),3)\n",
    "print(f'{p*100}% доверительный интервал для мат ожидания: {round(a,3),round(b,3)}')"
   ]
  },
  {
   "cell_type": "code",
   "execution_count": null,
   "id": "c96e45e2",
   "metadata": {},
   "outputs": [],
   "source": []
  }
 ],
 "metadata": {
  "kernelspec": {
   "display_name": "Python 3 (ipykernel)",
   "language": "python",
   "name": "python3"
  },
  "language_info": {
   "codemirror_mode": {
    "name": "ipython",
    "version": 3
   },
   "file_extension": ".py",
   "mimetype": "text/x-python",
   "name": "python",
   "nbconvert_exporter": "python",
   "pygments_lexer": "ipython3",
   "version": "3.10.6"
  }
 },
 "nbformat": 4,
 "nbformat_minor": 5
}
